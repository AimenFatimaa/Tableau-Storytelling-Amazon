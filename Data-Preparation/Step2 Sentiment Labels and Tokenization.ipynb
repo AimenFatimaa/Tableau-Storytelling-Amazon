{
 "cells": [
  {
   "cell_type": "code",
   "execution_count": 2,
   "id": "0e2aa524-8191-4155-9e12-55e18be4600e",
   "metadata": {},
   "outputs": [
    {
     "name": "stdout",
     "output_type": "stream",
     "text": [
      "Collecting textblob\n",
      "  Downloading textblob-0.19.0-py3-none-any.whl.metadata (4.4 kB)\n",
      "Collecting nltk>=3.9 (from textblob)\n",
      "  Downloading nltk-3.9.1-py3-none-any.whl.metadata (2.9 kB)\n",
      "Requirement already satisfied: click in d:\\anaconda\\lib\\site-packages (from nltk>=3.9->textblob) (8.1.7)\n",
      "Requirement already satisfied: joblib in d:\\anaconda\\lib\\site-packages (from nltk>=3.9->textblob) (1.2.0)\n",
      "Requirement already satisfied: regex>=2021.8.3 in d:\\anaconda\\lib\\site-packages (from nltk>=3.9->textblob) (2023.10.3)\n",
      "Requirement already satisfied: tqdm in d:\\anaconda\\lib\\site-packages (from nltk>=3.9->textblob) (4.65.0)\n",
      "Requirement already satisfied: colorama in d:\\anaconda\\lib\\site-packages (from click->nltk>=3.9->textblob) (0.4.6)\n",
      "Downloading textblob-0.19.0-py3-none-any.whl (624 kB)\n",
      "   ---------------------------------------- 0.0/624.3 kB ? eta -:--:--\n",
      "    --------------------------------------- 10.2/624.3 kB ? eta -:--:--\n",
      "   - ------------------------------------- 30.7/624.3 kB 435.7 kB/s eta 0:00:02\n",
      "   --- ----------------------------------- 61.4/624.3 kB 656.4 kB/s eta 0:00:01\n",
      "   --------- ------------------------------ 153.6/624.3 kB 1.0 MB/s eta 0:00:01\n",
      "   -------------------- ------------------- 317.4/624.3 kB 1.6 MB/s eta 0:00:01\n",
      "   ---------------------------- ----------- 450.6/624.3 kB 1.9 MB/s eta 0:00:01\n",
      "   ------------------------------------ --- 563.2/624.3 kB 2.1 MB/s eta 0:00:01\n",
      "   ---------------------------------------- 624.3/624.3 kB 2.0 MB/s eta 0:00:00\n",
      "Downloading nltk-3.9.1-py3-none-any.whl (1.5 MB)\n",
      "   ---------------------------------------- 0.0/1.5 MB ? eta -:--:--\n",
      "   ----- ---------------------------------- 0.2/1.5 MB 5.9 MB/s eta 0:00:01\n",
      "   ------- -------------------------------- 0.3/1.5 MB 3.5 MB/s eta 0:00:01\n",
      "   ---------- ----------------------------- 0.4/1.5 MB 3.7 MB/s eta 0:00:01\n",
      "   ------------- -------------------------- 0.5/1.5 MB 3.2 MB/s eta 0:00:01\n",
      "   -------------- ------------------------- 0.5/1.5 MB 3.1 MB/s eta 0:00:01\n",
      "   -------------- ------------------------- 0.5/1.5 MB 3.1 MB/s eta 0:00:01\n",
      "   -------------- ------------------------- 0.5/1.5 MB 3.1 MB/s eta 0:00:01\n",
      "   -------------- ------------------------- 0.5/1.5 MB 3.1 MB/s eta 0:00:01\n",
      "   ----------------- ---------------------- 0.6/1.5 MB 1.8 MB/s eta 0:00:01\n",
      "   ---------------------- ----------------- 0.8/1.5 MB 2.1 MB/s eta 0:00:01\n",
      "   ---------------------------- ----------- 1.1/1.5 MB 2.3 MB/s eta 0:00:01\n",
      "   ------------------------------------- -- 1.4/1.5 MB 2.8 MB/s eta 0:00:01\n",
      "   ---------------------------------------  1.5/1.5 MB 2.8 MB/s eta 0:00:01\n",
      "   ---------------------------------------- 1.5/1.5 MB 2.7 MB/s eta 0:00:00\n",
      "Installing collected packages: nltk, textblob\n",
      "  Attempting uninstall: nltk\n",
      "    Found existing installation: nltk 3.8.1\n",
      "    Uninstalling nltk-3.8.1:\n",
      "      Successfully uninstalled nltk-3.8.1\n",
      "Successfully installed nltk-3.9.1 textblob-0.19.0\n"
     ]
    }
   ],
   "source": [
    "!pip install textblob"
   ]
  },
  {
   "cell_type": "code",
   "execution_count": 16,
   "id": "8d222cc7-ed9b-413e-b70c-e4d2aeef6aad",
   "metadata": {},
   "outputs": [
    {
     "name": "stderr",
     "output_type": "stream",
     "text": [
      "[nltk_data] Downloading package punkt to\n",
      "[nltk_data]     C:\\Users\\LAPTOP\\AppData\\Roaming\\nltk_data...\n",
      "[nltk_data]   Package punkt is already up-to-date!\n"
     ]
    },
    {
     "data": {
      "text/plain": [
       "True"
      ]
     },
     "execution_count": 16,
     "metadata": {},
     "output_type": "execute_result"
    }
   ],
   "source": [
    "import nltk\n",
    "nltk.download('punkt')"
   ]
  },
  {
   "cell_type": "code",
   "execution_count": 17,
   "id": "a5166e67-14f7-456a-9b57-e17853702a20",
   "metadata": {},
   "outputs": [],
   "source": [
    "from textblob import TextBlob\n",
    "import pandas as pd"
   ]
  },
  {
   "cell_type": "code",
   "execution_count": 18,
   "id": "ebde934d-c1cb-4b7a-b76c-ddd2713de987",
   "metadata": {},
   "outputs": [],
   "source": [
    "# Load cleaned data\n",
    "df = pd.read_csv(r'D:\\Preprocessed_amazon_2021_electronics.csv')"
   ]
  },
  {
   "cell_type": "code",
   "execution_count": 19,
   "id": "8083068e-04c3-4efb-ab50-53dc228d4558",
   "metadata": {},
   "outputs": [
    {
     "data": {
      "text/plain": [
       "(4412, 21)"
      ]
     },
     "execution_count": 19,
     "metadata": {},
     "output_type": "execute_result"
    }
   ],
   "source": [
    "df.shape"
   ]
  },
  {
   "cell_type": "code",
   "execution_count": 20,
   "id": "548eae0a-1ae4-40c7-a173-3e67a5c777c6",
   "metadata": {},
   "outputs": [
    {
     "name": "stdout",
     "output_type": "stream",
     "text": [
      "✅ Sentiment added and file saved as final_amazon_2021_sentiment.csv\n"
     ]
    }
   ],
   "source": [
    "# Function to get sentiment polarity (-1 to 1)\n",
    "def get_sentiment(text):\n",
    "    if pd.isna(text):\n",
    "        return 0\n",
    "    return TextBlob(str(text)).sentiment.polarity\n",
    "\n",
    "# Apply to review text\n",
    "df['sentiment'] = df['text'].apply(get_sentiment)\n",
    "\n",
    "# Also add a sentiment label\n",
    "df['sentiment_label'] = df['sentiment'].apply(lambda x: 'Positive' if x > 0.1 else ('Negative' if x < -0.1 else 'Neutral'))\n",
    "\n",
    "# Save this updated CSV\n",
    "df.to_csv(r'D:\\SentimentUpdatedfinal_amazon_2021_electronics.csv', index=False)\n",
    "\n",
    "print(\"✅ Sentiment added and file saved as final_amazon_2021_sentiment.csv\")"
   ]
  },
  {
   "cell_type": "code",
   "execution_count": 21,
   "id": "e5a81c73-ba84-43ff-ae1a-98f2c280383f",
   "metadata": {},
   "outputs": [
    {
     "data": {
      "text/plain": [
       "Index(['rating', 'title_x', 'text', 'images', 'asin', 'parent_asin', 'user_id',\n",
       "       'timestamp', 'helpful_vote', 'verified_purchase', 'readable_date',\n",
       "       'title_y', 'price', 'author', 'GPU', 'Write Speed', 'Maximum Frequency',\n",
       "       'Mounting Type Wall Mount, found in image',\n",
       "       'Surface Recommendation Window,, wall,, car,, laptop', 'Is framed?',\n",
       "       'year', 'sentiment', 'sentiment_label'],\n",
       "      dtype='object')"
      ]
     },
     "execution_count": 21,
     "metadata": {},
     "output_type": "execute_result"
    }
   ],
   "source": [
    "df.columns"
   ]
  },
  {
   "cell_type": "code",
   "execution_count": 22,
   "id": "091acef7-1583-4819-b884-144c118e6c62",
   "metadata": {},
   "outputs": [
    {
     "data": {
      "text/plain": [
       "(4412, 23)"
      ]
     },
     "execution_count": 22,
     "metadata": {},
     "output_type": "execute_result"
    }
   ],
   "source": [
    "df.shape"
   ]
  },
  {
   "cell_type": "markdown",
   "id": "b474477c-3452-4cce-9975-3e50ba22cca0",
   "metadata": {},
   "source": [
    "**Tokenize text data**"
   ]
  },
  {
   "cell_type": "code",
   "execution_count": 23,
   "id": "f6979dbd-97e5-4dd0-b67d-354eb0fdf4f7",
   "metadata": {},
   "outputs": [],
   "source": [
    "import pandas as pd\n",
    "from collections import Counter\n",
    "import re\n",
    "\n",
    "# Load your data\n",
    "df = pd.read_csv(r'D:\\SentimentUpdatedfinal_amazon_2021_electronics.csv')"
   ]
  },
  {
   "cell_type": "code",
   "execution_count": 24,
   "id": "651bd073-9855-4599-bc07-99eea52ae1b2",
   "metadata": {},
   "outputs": [
    {
     "name": "stdout",
     "output_type": "stream",
     "text": [
      "                                                text  \\\n",
      "0  Works great for cameras and other non PoE conn...   \n",
      "1  Perfect for anyone with a computer that may la...   \n",
      "2                     Akso, keyboard is not lighted.   \n",
      "3  THE GOOD:<br />--------------<br />* Bottle is...   \n",
      "4  [[VIDEOID:b00905455fa0232020ab72a041d83d6e]] T...   \n",
      "5  This item is very easy to assemble and use.  I...   \n",
      "6  These are very good mid-range headphones. They...   \n",
      "7  These earbuds work as advertised. The sound is...   \n",
      "8  I do videos for YouTube and sometimes I'm not ...   \n",
      "9  I like the green/blue screen but dislike the s...   \n",
      "\n",
      "                                             title_x  \n",
      "0                    Excellent speed and performance  \n",
      "1                              The add-on solution!!  \n",
      "2                       There is no delete key! WTF?  \n",
      "3  A very nice complete kit with 16.9 oz. of solu...  \n",
      "4            Quality optics bring out the details!!!  \n",
      "5                                        Easy To Use  \n",
      "6    Excellent mid-quality without breaking the bank  \n",
      "7                                     Pretty Decent!  \n",
      "8                                Good for podcasters  \n",
      "9  I like the green/blue screen but dislike the s...  \n"
     ]
    }
   ],
   "source": [
    "print(df[['text', 'title_x']].head(10))"
   ]
  },
  {
   "cell_type": "code",
   "execution_count": 25,
   "id": "bf7e4a5c-53b4-4f59-9a2a-c4386562aab3",
   "metadata": {},
   "outputs": [],
   "source": [
    "# Combine the two columns\n",
    "combined_text = df['text'] + ' ' + df['title_x']\n",
    "\n",
    "# Join all text into one big string\n",
    "all_text = \" \".join(combined_text.astype(str))"
   ]
  },
  {
   "cell_type": "code",
   "execution_count": 26,
   "id": "d833df59-7d2b-430a-aff7-eceefc0a6f6c",
   "metadata": {},
   "outputs": [],
   "source": [
    "# Extract words with 4+ letters (ignores things like \"the\", \"is\", etc.)\n",
    "words = re.findall(r'\\b\\w{4,}\\b', all_text.lower())"
   ]
  },
  {
   "cell_type": "code",
   "execution_count": 27,
   "id": "25365ce8-75a8-4872-9174-94624f71d5a9",
   "metadata": {},
   "outputs": [],
   "source": [
    "from collections import Counter\n",
    "word_freq = Counter(words)"
   ]
  },
  {
   "cell_type": "code",
   "execution_count": 35,
   "id": "e99833ce-1fae-4de3-9bf1-0112139fb5e0",
   "metadata": {},
   "outputs": [],
   "source": [
    "# Convert to DataFrame\n",
    "word_cloud_df = pd.DataFrame(word_freq.items(), columns=['Word', 'Frequency'])\n",
    "\n",
    "# Sort by frequency descending\n",
    "word_cloud_df = word_cloud_df.sort_values(by='Frequency', ascending=False)"
   ]
  },
  {
   "cell_type": "code",
   "execution_count": 31,
   "id": "5421aab0-df56-46e3-b049-6cbf54d2c678",
   "metadata": {},
   "outputs": [
    {
     "data": {
      "text/html": [
       "<div>\n",
       "<style scoped>\n",
       "    .dataframe tbody tr th:only-of-type {\n",
       "        vertical-align: middle;\n",
       "    }\n",
       "\n",
       "    .dataframe tbody tr th {\n",
       "        vertical-align: top;\n",
       "    }\n",
       "\n",
       "    .dataframe thead th {\n",
       "        text-align: right;\n",
       "    }\n",
       "</style>\n",
       "<table border=\"1\" class=\"dataframe\">\n",
       "  <thead>\n",
       "    <tr style=\"text-align: right;\">\n",
       "      <th></th>\n",
       "      <th>Word</th>\n",
       "      <th>Frequency</th>\n",
       "    </tr>\n",
       "  </thead>\n",
       "  <tbody>\n",
       "    <tr>\n",
       "      <th>34</th>\n",
       "      <td>this</td>\n",
       "      <td>2718</td>\n",
       "    </tr>\n",
       "    <tr>\n",
       "      <th>14</th>\n",
       "      <td>with</td>\n",
       "      <td>1999</td>\n",
       "    </tr>\n",
       "    <tr>\n",
       "      <th>1</th>\n",
       "      <td>great</td>\n",
       "      <td>1919</td>\n",
       "    </tr>\n",
       "    <tr>\n",
       "      <th>30</th>\n",
       "      <td>that</td>\n",
       "      <td>1676</td>\n",
       "    </tr>\n",
       "    <tr>\n",
       "      <th>169</th>\n",
       "      <td>good</td>\n",
       "      <td>1309</td>\n",
       "    </tr>\n",
       "  </tbody>\n",
       "</table>\n",
       "</div>"
      ],
      "text/plain": [
       "      Word  Frequency\n",
       "34    this       2718\n",
       "14    with       1999\n",
       "1    great       1919\n",
       "30    that       1676\n",
       "169   good       1309"
      ]
     },
     "execution_count": 31,
     "metadata": {},
     "output_type": "execute_result"
    }
   ],
   "source": [
    "word_cloud_df.head()"
   ]
  },
  {
   "cell_type": "code",
   "execution_count": 32,
   "id": "8aa0f8f1-9381-4b4c-94ad-0d820ed7bc7d",
   "metadata": {},
   "outputs": [],
   "source": [
    "word_cloud_df = word_cloud_df.sort_values(by='Frequency', ascending=False)\n",
    "word_cloud_df = word_cloud_df.reset_index(drop=True)"
   ]
  },
  {
   "cell_type": "code",
   "execution_count": 33,
   "id": "1706ef03-c51a-4e13-be4a-93df1e207b0a",
   "metadata": {},
   "outputs": [
    {
     "name": "stdout",
     "output_type": "stream",
     "text": [
      "    Word  Frequency\n",
      "0   this       2718\n",
      "1   with       1999\n",
      "2  great       1919\n",
      "3   that       1676\n",
      "4   good       1309\n"
     ]
    }
   ],
   "source": [
    "print(word_cloud_df.head())"
   ]
  },
  {
   "cell_type": "code",
   "execution_count": 34,
   "id": "45d9f5b8-80e1-4294-948d-caf20499e41b",
   "metadata": {},
   "outputs": [
    {
     "name": "stdout",
     "output_type": "stream",
     "text": [
      "✅ Word cloud data saved to word_cloud_data.csv\n"
     ]
    }
   ],
   "source": [
    "# Export to CSV\n",
    "word_cloud_df.to_csv(r'D:\\word_cloud_data.csv', index=False)\n",
    "\n",
    "print(\"✅ Word cloud data saved to word_cloud_data.csv\")"
   ]
  },
  {
   "cell_type": "code",
   "execution_count": null,
   "id": "ab9bc053-307d-4dbe-9b30-5bd2a133145d",
   "metadata": {},
   "outputs": [],
   "source": []
  }
 ],
 "metadata": {
  "kernelspec": {
   "display_name": "Python 3 (ipykernel)",
   "language": "python",
   "name": "python3"
  },
  "language_info": {
   "codemirror_mode": {
    "name": "ipython",
    "version": 3
   },
   "file_extension": ".py",
   "mimetype": "text/x-python",
   "name": "python",
   "nbconvert_exporter": "python",
   "pygments_lexer": "ipython3",
   "version": "3.11.7"
  }
 },
 "nbformat": 4,
 "nbformat_minor": 5
}
